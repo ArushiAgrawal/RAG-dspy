{
 "cells": [
  {
   "cell_type": "markdown",
   "id": "6dbf8089-b75f-48b5-81ac-49b28df1f1a2",
   "metadata": {},
   "source": [
    "## Vanilla RAG using DsPy\n",
    "\n",
    "This code demonstrates the creation of a Vanilla RAG (Retrieval-Augmented Generation) model using the DSPy library in Python. Given the limited time frame of a couple of days, the implementation is functional but leaves room for optimization and experimentation across several areas:\n",
    "\n",
    "- Document Loading: Beyond the PyPDFLoader from LangChain, other libraries like PyPDF2, PDFMiner, Tabula, PDFQuery, or LlamaParse could be explored for potentially better performance or compatibility with different document types.\n",
    "\n",
    "- Chunking Strategy: LangChain offers various text splitters, and adjusting parameters like chunk size, overlap, and separators could enhance the efficiency of the model's retrieval process.\n",
    "\n",
    "- Embeddings: Different embeddings can be experimented with, balancing memory usage, processing time, and accuracy to better suit the specific use case.\n",
    "\n",
    "- Vector Database: Exploring alternatives such as Faiss, ChromaDB, or others might yield improvements in retrieval speed and accuracy.\n",
    "\n",
    "- LLM Model: Experimentation with different language models, such as Llama, GPT, Claude, or Gemini, could lead to better generation quality\n",
    "\n",
    "- Retrieval Strategy: Adjusting the number of relevant chunks retrieved or modifying the retrieval algorithm could optimize the relevance and coherence of generated answers.\n",
    "\n",
    "- Training and Testing Dataset: Expanding the dataset with more diverse samples can significantly enhance the model's robustness and generalizability.\n",
    "\n",
    "- Optimization Techniques: Implementing custom optimization functions tailored to the specific requirements of the task could further refine the model's performance.\n",
    "\n",
    "- Evaluation Metrics: Developing custom evaluation metrics aligned with the project’s goals would provide more meaningful insights into model performance.\n",
    "\n",
    "- Pipeline Configuration: The sequence and combination of modules in the pipeline can be adjusted for better synergy between retrieval and generation stages.\n",
    "\n",
    "This code forms a solid foundation but with further refinement and testing, the RAG model can be significantly optimized for better results."
   ]
  },
  {
   "cell_type": "code",
   "execution_count": 2,
   "id": "8a76d876-c631-4126-853f-248dce2a87c3",
   "metadata": {},
   "outputs": [],
   "source": [
    "# pip install --upgrade typing_extensions\n",
    "# pip install --upgrade dspy\n",
    "# pip install langchain\n",
    "# pip install typing-inspect==0.8.0 typing_extensions==4.5.0\n",
    "# pip install openai==0.28.1\n",
    "# pip install pypdf\n",
    "# pip install chromadb\n",
    "# pip install qdrant_client\n",
    "# pip install dspy-ai[qdrant]\n",
    "# pip install dspy-ai\\[qdrant\\]"
   ]
  },
  {
   "cell_type": "code",
   "execution_count": 3,
   "id": "f24b3067-959e-4ac1-87d7-49e83cc83d30",
   "metadata": {},
   "outputs": [
    {
     "name": "stderr",
     "output_type": "stream",
     "text": [
      "/Users/aa813076/anaconda3/envs/env-webref/lib/python3.12/site-packages/sentence_transformers/cross_encoder/CrossEncoder.py:11: TqdmWarning: IProgress not found. Please update jupyter and ipywidgets. See https://ipywidgets.readthedocs.io/en/stable/user_install.html\n",
      "  from tqdm.autonotebook import tqdm, trange\n"
     ]
    }
   ],
   "source": [
    "import time\n",
    "import openai\n",
    "import pandas as pd\n",
    "import numpy as np\n",
    "from langchain.document_loaders import PyPDFLoader\n",
    "from langchain.text_splitter import RecursiveCharacterTextSplitter\n",
    "from sentence_transformers import SentenceTransformer\n",
    "import dspy"
   ]
  },
  {
   "cell_type": "markdown",
   "id": "f039cfe6-fcd4-4fba-a8a9-63265edd46c5",
   "metadata": {},
   "source": [
    "#### Loading the data"
   ]
  },
  {
   "cell_type": "code",
   "execution_count": 4,
   "id": "28dd34e8-fecf-4f11-85b5-b58a41a415b7",
   "metadata": {},
   "outputs": [
    {
     "name": "stderr",
     "output_type": "stream",
     "text": [
      "/Users/aa813076/anaconda3/envs/env-webref/lib/python3.12/site-packages/huggingface_hub/file_download.py:1132: FutureWarning: `resume_download` is deprecated and will be removed in version 1.0.0. Downloads always resume when possible. If you want to force a new download, use `force_download=True`.\n",
      "  warnings.warn(\n"
     ]
    }
   ],
   "source": [
    "# Defining the textsplitter for creating chunks and loading the data into the vector database\n",
    "text_splitter = RecursiveCharacterTextSplitter(\n",
    "    chunk_size = 1000,\n",
    "    chunk_overlap = 50,\n",
    "    length_function = len,\n",
    "    is_separator_regex = False,\n",
    ")\n",
    "docs = PyPDFLoader(\"GST Smart Guide.pdf\").load_and_split(text_splitter = text_splitter)\n",
    "\n",
    "doc_contents = [doc.page_content for doc in docs]\n",
    "# List to hold the IDs for each document\n",
    "doc_ids = list(range(0, len(docs)))\n",
    "\n",
    "# Embeddings\n",
    "model = SentenceTransformer(\"sentence-transformers/all-mpnet-base-v2\", device ='cpu')"
   ]
  },
  {
   "cell_type": "code",
   "execution_count": 4,
   "id": "86874c80-4333-4149-a344-2c7927601f94",
   "metadata": {},
   "outputs": [],
   "source": [
    "# vectors = model.encode(doc_contents) # Do this step once and store the results in .npy file and load it from there, to save time\n",
    "\n",
    "# # Save vectors to a .npy file\n",
    "# np.save('vectors.npy', vectors)"
   ]
  },
  {
   "cell_type": "code",
   "execution_count": 5,
   "id": "4456d1b8-de17-4c18-a6f1-67e8509b9fac",
   "metadata": {},
   "outputs": [],
   "source": [
    "# Load vectors from a .npy file\n",
    "vectors = np.load('vectors.npy')"
   ]
  },
  {
   "cell_type": "code",
   "execution_count": 6,
   "id": "5b3d8c2b-2677-4de6-ad93-397d21e1b0d6",
   "metadata": {},
   "outputs": [
    {
     "data": {
      "text/plain": [
       "(4245, 768)"
      ]
     },
     "execution_count": 6,
     "metadata": {},
     "output_type": "execute_result"
    }
   ],
   "source": [
    "len(vectors), len(vectors[0])"
   ]
  },
  {
   "cell_type": "code",
   "execution_count": 7,
   "id": "8d61a32a-90c8-4630-b4f1-ab24c531e1d6",
   "metadata": {},
   "outputs": [],
   "source": [
    "# Initiating the vector database - Qdrant\n",
    "from qdrant_client import QdrantClient\n",
    "client = QdrantClient(\":memory:\")"
   ]
  },
  {
   "cell_type": "code",
   "execution_count": 8,
   "id": "27a8d195-7f61-4efe-b04b-643d743ab35d",
   "metadata": {},
   "outputs": [
    {
     "data": {
      "text/plain": [
       "True"
      ]
     },
     "execution_count": 8,
     "metadata": {},
     "output_type": "execute_result"
    }
   ],
   "source": [
    "from qdrant_client.models import Distance, VectorParams\n",
    "\n",
    "# Delete the database if already exists\n",
    "client.delete_collection(collection_name = \"gst_data\") \n",
    "\n",
    "client.create_collection(\n",
    "    collection_name = \"gst_data\",\n",
    "    vectors_config = VectorParams(size = 768, distance = Distance.COSINE),\n",
    ")"
   ]
  },
  {
   "cell_type": "code",
   "execution_count": 9,
   "id": "b24e4967-e3ab-4092-b5f7-f4689f02f799",
   "metadata": {},
   "outputs": [],
   "source": [
    "client.upload_collection(\n",
    "    collection_name = \"gst_data\",\n",
    "    ids =  doc_ids,\n",
    "    vectors = vectors,\n",
    "    # payloads = [{\"text\": doc_text} for doc_text in doc_contents]  # Assuming `documents` is a list of texts\n",
    ")"
   ]
  },
  {
   "cell_type": "markdown",
   "id": "251ac747-a12b-4daa-8175-2017d1fd2779",
   "metadata": {},
   "source": [
    "#### Checking if the vectorDB is loaded correctly"
   ]
  },
  {
   "cell_type": "code",
   "execution_count": 10,
   "id": "5576cdd2-0e8d-4310-8b45-fdf8a3bfac29",
   "metadata": {},
   "outputs": [
    {
     "name": "stdout",
     "output_type": "stream",
     "text": [
      "Total number of vectors in the collection: 4245\n",
      "Vector ID: 0 retrieved: True\n",
      "Vector ID: 1 retrieved: True\n",
      "Vector ID: 2 retrieved: True\n",
      "Vector ID: 3 retrieved: True\n",
      "Vector ID: 4 retrieved: True\n"
     ]
    }
   ],
   "source": [
    "# Get the total number of vectors in the collection\n",
    "collection_info = client.get_collection(collection_name = \"gst_data\")\n",
    "vector_count = collection_info.points_count\n",
    "\n",
    "print(f\"Total number of vectors in the collection: {vector_count}\")\n",
    "\n",
    "# Fetch specific vectors by their IDs\n",
    "response = client.retrieve(\n",
    "    collection_name = \"gst_data\",\n",
    "    ids = doc_ids[:5],  # Fetch the first 5 vectors, for example\n",
    ")\n",
    "\n",
    "# Check if vectors were retrieved successfully\n",
    "for idx, vector in enumerate(response):\n",
    "    print(f\"Vector ID: {doc_ids[idx]} retrieved: {vector is not None}\")"
   ]
  },
  {
   "cell_type": "markdown",
   "id": "00b7dc22-9f24-4f8b-9762-b8977a18e291",
   "metadata": {},
   "source": [
    "#### Loading the LLM"
   ]
  },
  {
   "cell_type": "code",
   "execution_count": 13,
   "id": "b65ac356-94af-49d8-8471-b406f990429f",
   "metadata": {},
   "outputs": [
    {
     "name": "stdout",
     "output_type": "stream",
     "text": [
      "['Hello! How can I assist you today?']\n",
      "Paris\n"
     ]
    }
   ],
   "source": [
    "# LM Model\n",
    "AZURE_OPENAI_MODEL_NAME = 'openai-gpt4'\n",
    "AZURE_ENDPOINT = \"api-base\"\n",
    "API_VERSION = \"2023-05-15\"\n",
    "API_KEY = \"api-key\"\n",
    "\n",
    "lm_model = dspy.AzureOpenAI(deployment_id = AZURE_OPENAI_MODEL_NAME, \n",
    "                    api_key = API_KEY,         \n",
    "                    api_base = AZURE_ENDPOINT,\n",
    "                    api_version = API_VERSION)\n",
    "\n",
    "dspy.configure(lm = lm_model)\n",
    "\n",
    "# Checking the model loading \n",
    "print(lm_model(\"hello! this is a raw prompt to GPT-4\"))\n",
    "\n",
    "# Example DSPy Chain of Thought Question-Answer program\n",
    "qa = dspy.ChainOfThought('question -> answer')\n",
    "response = qa(question = \"What is the capital of France?\") #Prompted to lm_model\n",
    "print(response.answer)"
   ]
  },
  {
   "cell_type": "markdown",
   "id": "0dbccb31-7b64-4765-9117-5632fd309d12",
   "metadata": {},
   "source": [
    "#### Retriever model"
   ]
  },
  {
   "cell_type": "code",
   "execution_count": 21,
   "id": "edf59d7f",
   "metadata": {},
   "outputs": [],
   "source": [
    "#pip install --upgrade dspy"
   ]
  },
  {
   "cell_type": "code",
   "execution_count": 22,
   "id": "4c764650-58c2-498f-a4e9-f15287406a05",
   "metadata": {},
   "outputs": [],
   "source": [
    "from dspy.retrieve.qdrant_rm import QdrantRM\n",
    "qdrant_retriever_model = QdrantRM(\"gst_data\", client, k = 5)\n",
    "\n",
    "# Configuring the DSPy Module\n",
    "dspy.settings.configure(rm = qdrant_retriever_model, lm = lm_model)"
   ]
  },
  {
   "cell_type": "code",
   "execution_count": 24,
   "id": "eeb5a533-95e0-428e-9752-fa8b32359d30",
   "metadata": {},
   "outputs": [
    {
     "name": "stderr",
     "output_type": "stream",
     "text": [
      "Batches: 100%|██████████| 1/1 [00:02<00:00,  2.22s/it]\n"
     ]
    },
    {
     "data": {
      "text/plain": [
       "['2 GST Smart Guide  Chap. 1 \\n principal causes of the prosperity of Great Britain; every great country being \\nnecessarily the best and most extensive market for the greater part of the \\nproductions of its own industry. If the same freedom, in consequence of the same \\nuniformity, could be extended to Ireland and the plantations, both the grandeur \\nof the state and the prosperity of every part of the empire, would probably be still \\ngreater than at present” \\n— Adam Smith in ‘Wealth of Nations’ \\n1. Introductory \\nGoods and Services Tax, which is better known by its acronym, GST, is the \\nbiggest indirect tax reform in India, since independence. GST introduces a single \\ntax within the federal structure of our nation. It is a tax on the supply of goods \\nand services, levied at every point of consumption of goods or services, from the \\nstage of the manufacturer to the final stage of consumer. GST is a destination \\nbased tax and is based on the principles of Value Added Taxation. Most of the',\n",
       " 'date and transaction details of the payment. \\nStep 5: Reports to track pendency in each procuring entity shall be provided \\nby GeM. \\nThe date of  commencement of the scheme shall be notified separately. \\n20. MSME \\n— FAQ’s \\nQ\\nuestion 1: What is GST?  \\nAnswer: GST stands for Goods and Services Tax, which is levied on supply \\nof goods or services. “Supply” is a legal term which has very broad sweep and \\nvarious types of economic activities are covered by it. For example, sale of goods \\nis a type of supply. \\nQuestion 2: On what supply is GST levied?  \\nAnswer: GST is levied on all types of supplies which are - (i) made for a \\nconsideration and (ii) are in the course or furtherance of business. There are some \\nexceptions when these conditions are not met, yet supply is considered to have \\nbeen made, for example, inter-state stock transfer of goods even without',\n",
       " 'or provision of services stand subsumed in the present taxable event known as \\n‘supply’. Therefore, the concept supply has occupied key place and the vital \\nevent in determining the taxability of all transaction whether commercial or \\notherwise under the GST regime. \\n2. Meaning of GST \\nThe Constitution defines “Goods and Services Tax” as “any tax on supply of \\ngoods or services or both except tax on supply of alcoholic liquor for human \\nconsumption [Article 366(12A) of the Constitutional (101st Amendment) Act, \\n2016]”.',\n",
       " '“taxable services” as was prevailed in the earlier tax laws for the purpose of levy \\nof tax. Section 2(108) of the CGST Act, defines “Taxable supply” means a \\nsupply of goods or services or both which is leviable to tax under GST. Thus, \\nGST is levied upon the “supplies of goods and services”. Section 9(1) of the',\n",
       " 'owing to technical glitches on the GST portal. \\n30.5 The introduction of GST is truly a game changer for Indian economy as \\nit has replaced multi-layered, complex indirect tax structure with a simple, \\ntransparent and technology-driven tax regime. It has integrated India into a \\nsingle, common market by breaking barriers to inter-State trade and commerce. \\nBy eliminating cascading of taxes and reducing transaction costs, it will enhance \\nease of doing business in the country and provide an impetus to —Make in India” \\ncampaign. GST will result in  “ONE NATION, ONE TAX, ONE MARKET”. \\n*******']"
      ]
     },
     "execution_count": 24,
     "metadata": {},
     "output_type": "execute_result"
    }
   ],
   "source": [
    "# Checking the retriever model \n",
    "def get_context(query):\n",
    "    query_vector = model.encode(query)\n",
    "    hits = client.search(\n",
    "        collection_name = \"gst_data\",\n",
    "        query_vector = query_vector,\n",
    "        limit = 5\n",
    "    )\n",
    "    context = []\n",
    "    for i in hits:\n",
    "        context.append(doc_contents[i.id])\n",
    "    return context\n",
    "\n",
    "query = \"What is GST?\"\n",
    "get_context(query)"
   ]
  },
  {
   "cell_type": "code",
   "execution_count": 25,
   "id": "dea27ca9-0fbe-4f0c-ba8f-80d1bf4566fc",
   "metadata": {},
   "outputs": [],
   "source": [
    "# Building signatures\n",
    "class GenerateAnswer(dspy.Signature):\n",
    "    \"\"\"Answer questions with short answers.\"\"\"\n",
    "\n",
    "    context =  dspy.InputField(desc = \"question -> answer\")\n",
    "    question = dspy.InputField()\n",
    "    answer = dspy.OutputField(desc = \"Relevant answer\")"
   ]
  },
  {
   "cell_type": "code",
   "execution_count": 26,
   "id": "710241f7-7377-4b94-9f8c-d886dc8260e2",
   "metadata": {},
   "outputs": [],
   "source": [
    "# Building the Pipeline\n",
    "class RAG(dspy.Module):\n",
    "    def __init__(self, num_passages = 5):\n",
    "        super().__init__()\n",
    "        self.retrieve = dspy.Retrieve(k = num_passages)\n",
    "        self.generate_answer = dspy.ChainOfThought(GenerateAnswer, temperature = 0.4)\n",
    "\n",
    "    def forward(self, question):\n",
    "        context = get_context(question)\n",
    "        # print(context)\n",
    "        prediction = self.generate_answer(context = context, question = question)\n",
    "        return dspy.Prediction(context = context, answer = prediction.answer)\n"
   ]
  },
  {
   "cell_type": "code",
   "execution_count": 27,
   "id": "c45c23a7-b188-457d-90ac-8e9d2036466e",
   "metadata": {},
   "outputs": [],
   "source": [
    "rag = RAG()\n",
    "def respond(query):\n",
    "    response = rag(query)\n",
    "    return response"
   ]
  },
  {
   "cell_type": "code",
   "execution_count": 28,
   "id": "51a8a2eb-c954-4e0a-a925-73fa434fe1ff",
   "metadata": {},
   "outputs": [
    {
     "name": "stderr",
     "output_type": "stream",
     "text": [
      "Batches: 100%|██████████| 1/1 [00:00<00:00, 18.34it/s]\n"
     ]
    },
    {
     "name": "stdout",
     "output_type": "stream",
     "text": [
      "Prediction(\n",
      "    context=['2 GST Smart Guide  Chap. 1 \\n principal causes of the prosperity of Great Britain; every great country being \\nnecessarily the best and most extensive market for the greater part of the \\nproductions of its own industry. If the same freedom, in consequence of the same \\nuniformity, could be extended to Ireland and the plantations, both the grandeur \\nof the state and the prosperity of every part of the empire, would probably be still \\ngreater than at present” \\n— Adam Smith in ‘Wealth of Nations’ \\n1. Introductory \\nGoods and Services Tax, which is better known by its acronym, GST, is the \\nbiggest indirect tax reform in India, since independence. GST introduces a single \\ntax within the federal structure of our nation. It is a tax on the supply of goods \\nand services, levied at every point of consumption of goods or services, from the \\nstage of the manufacturer to the final stage of consumer. GST is a destination \\nbased tax and is based on the principles of Value Added Taxation. Most of the', 'date and transaction details of the payment. \\nStep 5: Reports to track pendency in each procuring entity shall be provided \\nby GeM. \\nThe date of  commencement of the scheme shall be notified separately. \\n20. MSME \\n— FAQ’s \\nQ\\nuestion 1: What is GST?  \\nAnswer: GST stands for Goods and Services Tax, which is levied on supply \\nof goods or services. “Supply” is a legal term which has very broad sweep and \\nvarious types of economic activities are covered by it. For example, sale of goods \\nis a type of supply. \\nQuestion 2: On what supply is GST levied?  \\nAnswer: GST is levied on all types of supplies which are - (i) made for a \\nconsideration and (ii) are in the course or furtherance of business. There are some \\nexceptions when these conditions are not met, yet supply is considered to have \\nbeen made, for example, inter-state stock transfer of goods even without', 'or provision of services stand subsumed in the present taxable event known as \\n‘supply’. Therefore, the concept supply has occupied key place and the vital \\nevent in determining the taxability of all transaction whether commercial or \\notherwise under the GST regime. \\n2. Meaning of GST \\nThe Constitution defines “Goods and Services Tax” as “any tax on supply of \\ngoods or services or both except tax on supply of alcoholic liquor for human \\nconsumption [Article 366(12A) of the Constitutional (101st Amendment) Act, \\n2016]”.', '“taxable services” as was prevailed in the earlier tax laws for the purpose of levy \\nof tax. Section 2(108) of the CGST Act, defines “Taxable supply” means a \\nsupply of goods or services or both which is leviable to tax under GST. Thus, \\nGST is levied upon the “supplies of goods and services”. Section 9(1) of the', 'owing to technical glitches on the GST portal. \\n30.5 The introduction of GST is truly a game changer for Indian economy as \\nit has replaced multi-layered, complex indirect tax structure with a simple, \\ntransparent and technology-driven tax regime. It has integrated India into a \\nsingle, common market by breaking barriers to inter-State trade and commerce. \\nBy eliminating cascading of taxes and reducing transaction costs, it will enhance \\nease of doing business in the country and provide an impetus to —Make in India” \\ncampaign. GST will result in  “ONE NATION, ONE TAX, ONE MARKET”. \\n*******'],\n",
      "    answer='GST is Goods and Services Tax, which is levied on the supply of goods or services.'\n",
      ")\n"
     ]
    }
   ],
   "source": [
    "print(respond(query))"
   ]
  },
  {
   "cell_type": "markdown",
   "id": "aecf8e03",
   "metadata": {},
   "source": [
    "#### Checking model performance\n",
    "\n",
    "The train and test datasets are created by randomly putting together some 15 questions, they should not be considered as a ground truth for evaluating the model. "
   ]
  },
  {
   "cell_type": "code",
   "execution_count": 30,
   "id": "a7080073-a81d-4d5f-811e-9c88d8409bfb",
   "metadata": {},
   "outputs": [],
   "source": [
    "import json\n",
    "\n",
    "testdata = json.load(open(\"TestData.json\", \"r\"))['examples']\n",
    "testset = [dspy.Example(question = e['question'], answer = e['answer']).with_inputs('question') for e in testdata]"
   ]
  },
  {
   "cell_type": "code",
   "execution_count": 31,
   "id": "55e96a6a-166f-4d77-9cbe-1bac3bd3737b",
   "metadata": {},
   "outputs": [
    {
     "name": "stderr",
     "output_type": "stream",
     "text": [
      "  0%|          | 0/7 [00:00<?, ?it/s]"
     ]
    },
    {
     "name": "stderr",
     "output_type": "stream",
     "text": [
      "Batches: 100%|██████████| 1/1 [00:00<00:00, 13.18it/s]\n",
      "Batches: 100%|██████████| 1/1 [00:00<00:00, 23.05it/s]:03<00:22,  3.70s/it]\n",
      "Batches: 100%|██████████| 1/1 [00:00<00:00, 17.03it/s]:09<00:24,  4.83s/it]\n",
      "Batches: 100%|██████████| 1/1 [00:00<00:00, 18.68it/s]:15<00:21,  5.32s/it]\n",
      "Batches: 100%|██████████| 1/1 [00:00<00:00, 12.97it/s]:18<00:14,  4.69s/it]\n",
      "Batches: 100%|██████████| 1/1 [00:00<00:00, 26.60it/s]:30<00:14,  7.20s/it]\n",
      "Batches: 100%|██████████| 1/1 [00:00<00:00, 19.91it/s]:36<00:06,  6.92s/it]\n"
     ]
    },
    {
     "name": "stdout",
     "output_type": "stream",
     "text": [
      "Backing off 0.4 seconds after 1 tries calling function <function AzureOpenAI.request at 0x1a19d4cc0> with kwargs {'temperature': 0.4}\n",
      "Backing off 1.7 seconds after 2 tries calling function <function AzureOpenAI.request at 0x1a19d4cc0> with kwargs {'temperature': 0.4}\n",
      "Backing off 3.8 seconds after 3 tries calling function <function AzureOpenAI.request at 0x1a19d4cc0> with kwargs {'temperature': 0.4}\n",
      "Backing off 4.6 seconds after 4 tries calling function <function AzureOpenAI.request at 0x1a19d4cc0> with kwargs {'temperature': 0.4}\n",
      "Backing off 6.3 seconds after 5 tries calling function <function AzureOpenAI.request at 0x1a19d4cc0> with kwargs {'temperature': 0.4}\n",
      "Backing off 6.1 seconds after 6 tries calling function <function AzureOpenAI.request at 0x1a19d4cc0> with kwargs {'temperature': 0.4}\n"
     ]
    },
    {
     "name": "stderr",
     "output_type": "stream",
     "text": [
      "Average Metric: 0 / 7  (0.0): 100%|██████████| 7/7 [01:10<00:00, 10.03s/it]\n",
      "/Users/aa813076/anaconda3/envs/env-webref/lib/python3.12/site-packages/dspy/evaluate/evaluate.py:266: FutureWarning: Setting an item of incompatible dtype is deprecated and will raise in a future error of pandas. Value '['False' 'False' 'False' 'False' 'False' 'False' 'False']' has dtype incompatible with bool, please explicitly cast to a compatible dtype first.\n",
      "  df.loc[:, metric_name] = df[metric_name].apply(\n"
     ]
    },
    {
     "name": "stdout",
     "output_type": "stream",
     "text": [
      "Average Metric: 0 / 7  (0.0%)\n"
     ]
    },
    {
     "data": {
      "text/html": [
       "<style type=\"text/css\">\n",
       "#T_d6272 th {\n",
       "  text-align: left;\n",
       "}\n",
       "#T_d6272 td {\n",
       "  text-align: left;\n",
       "}\n",
       "#T_d6272_row0_col0, #T_d6272_row0_col1, #T_d6272_row0_col2, #T_d6272_row0_col3, #T_d6272_row0_col4, #T_d6272_row1_col0, #T_d6272_row1_col1, #T_d6272_row1_col2, #T_d6272_row1_col3, #T_d6272_row1_col4, #T_d6272_row2_col0, #T_d6272_row2_col1, #T_d6272_row2_col2, #T_d6272_row2_col3, #T_d6272_row2_col4, #T_d6272_row3_col0, #T_d6272_row3_col1, #T_d6272_row3_col2, #T_d6272_row3_col3, #T_d6272_row3_col4, #T_d6272_row4_col0, #T_d6272_row4_col1, #T_d6272_row4_col2, #T_d6272_row4_col3, #T_d6272_row4_col4, #T_d6272_row5_col0, #T_d6272_row5_col1, #T_d6272_row5_col2, #T_d6272_row5_col3, #T_d6272_row5_col4, #T_d6272_row6_col0, #T_d6272_row6_col1, #T_d6272_row6_col2, #T_d6272_row6_col3, #T_d6272_row6_col4 {\n",
       "  text-align: left;\n",
       "  white-space: pre-wrap;\n",
       "  word-wrap: break-word;\n",
       "  max-width: 400px;\n",
       "}\n",
       "</style>\n",
       "<table id=\"T_d6272\">\n",
       "  <thead>\n",
       "    <tr>\n",
       "      <th class=\"blank level0\" >&nbsp;</th>\n",
       "      <th id=\"T_d6272_level0_col0\" class=\"col_heading level0 col0\" >question</th>\n",
       "      <th id=\"T_d6272_level0_col1\" class=\"col_heading level0 col1\" >example_answer</th>\n",
       "      <th id=\"T_d6272_level0_col2\" class=\"col_heading level0 col2\" >context</th>\n",
       "      <th id=\"T_d6272_level0_col3\" class=\"col_heading level0 col3\" >pred_answer</th>\n",
       "      <th id=\"T_d6272_level0_col4\" class=\"col_heading level0 col4\" >answer_exact_match</th>\n",
       "    </tr>\n",
       "  </thead>\n",
       "  <tbody>\n",
       "    <tr>\n",
       "      <th id=\"T_d6272_level0_row0\" class=\"row_heading level0 row0\" >0</th>\n",
       "      <td id=\"T_d6272_row0_col0\" class=\"data row0 col0\" >What is MSME?</td>\n",
       "      <td id=\"T_d6272_row0_col1\" class=\"data row0 col1\" >MSME stands for Micro, Small and Medium Enterprises</td>\n",
       "      <td id=\"T_d6272_row0_col2\" class=\"data row0 col2\" >['Appx. 11 Micro, Small and Medium Enterprises 1203 \\n (i) Evaluate readiness of MSMEs to export their products and services \\n (ii) Recognize areas where...</td>\n",
       "      <td id=\"T_d6272_row0_col3\" class=\"data row0 col3\" >Micro, Small and Medium Enterprises</td>\n",
       "      <td id=\"T_d6272_row0_col4\" class=\"data row0 col4\" >False</td>\n",
       "    </tr>\n",
       "    <tr>\n",
       "      <th id=\"T_d6272_level0_row1\" class=\"row_heading level0 row1\" >1</th>\n",
       "      <td id=\"T_d6272_row1_col0\" class=\"data row1 col0\" >What are the benefits to MSMEs under GST?</td>\n",
       "      <td id=\"T_d6272_row1_col1\" class=\"data row1 col1\" >The Micro, Small and Medium Enterprises have been accorded with lot of benefits in terms of compliance reliefs given in the form of threshold exemptions,...</td>\n",
       "      <td id=\"T_d6272_row1_col2\" class=\"data row1 col2\" >['be treated as deemed accepted by him. \\n(9) EWB can be generated online on https://www. ewaybillgst.gov.in. In \\naddition to web, EWB can be generated by...</td>\n",
       "      <td id=\"T_d6272_row1_col3\" class=\"data row1 col3\" >The benefits to MSMEs under GST include compliance reliefs like threshold exemptions, the Composition levy scheme, and quarterly filing of GST returns.</td>\n",
       "      <td id=\"T_d6272_row1_col4\" class=\"data row1 col4\" >False</td>\n",
       "    </tr>\n",
       "    <tr>\n",
       "      <th id=\"T_d6272_level0_row2\" class=\"row_heading level0 row2\" >2</th>\n",
       "      <td id=\"T_d6272_row2_col0\" class=\"data row2 col0\" >What is the role of the GST Network (GSTN)?</td>\n",
       "      <td id=\"T_d6272_row2_col1\" class=\"data row2 col1\" >GSTN would provide three front end services to the taxpayers namely registration, payment and return. It would be developing back-end IT modules for 27 States...</td>\n",
       "      <td id=\"T_d6272_row2_col2\" class=\"data row2 col2\" >['Chap. 1 GST — Concept & Status 31 \\n 27. Goods & Services Tax Network \\n27.1 Goods and Services Tax Network (GSTN) has been set...</td>\n",
       "      <td id=\"T_d6272_row2_col3\" class=\"data row2 col3\" >The role of the GST Network (GSTN) is to provide front-end services to taxpayers</td>\n",
       "      <td id=\"T_d6272_row2_col4\" class=\"data row2 col4\" >False</td>\n",
       "    </tr>\n",
       "    <tr>\n",
       "      <th id=\"T_d6272_level0_row3\" class=\"row_heading level0 row3\" >3</th>\n",
       "      <td id=\"T_d6272_row3_col0\" class=\"data row3 col0\" >What is the late fees per day for not filing Anual GST returns?</td>\n",
       "      <td id=\"T_d6272_row3_col1\" class=\"data row3 col1\" >The penalty for not filing GST returns is ₹100 per day for CGST and ₹100 per day for SGST</td>\n",
       "      <td id=\"T_d6272_row3_col2\" class=\"data row3 col2\" >['976 GST Smart Guide Chap. 54 \\n• Amount of pre-deposit payable for filing of appeal under the CGST \\nAct, 2017 before the Appellate Authority and...</td>\n",
       "      <td id=\"T_d6272_row3_col3\" class=\"data row3 col3\" >`100 per day</td>\n",
       "      <td id=\"T_d6272_row3_col4\" class=\"data row3 col4\" >False</td>\n",
       "    </tr>\n",
       "    <tr>\n",
       "      <th id=\"T_d6272_level0_row4\" class=\"row_heading level0 row4\" >4</th>\n",
       "      <td id=\"T_d6272_row4_col0\" class=\"data row4 col0\" >What is the GST compensation cess?</td>\n",
       "      <td id=\"T_d6272_row4_col1\" class=\"data row4 col1\" >GST compensation cess is levied on certain goods to compensate states for revenue loss due to the implementation of GST.</td>\n",
       "      <td id=\"T_d6272_row4_col2\" class=\"data row4 col2\" >['of the Council, for the purposes of providing compensation to the States for \\nloss of revenue arising on account of implementation of the goods and...</td>\n",
       "      <td id=\"T_d6272_row4_col3\" class=\"data row4 col3\" >The GST compensation cess is an additional levy on certain notified goods, over and above the applicable GST, aimed at compensating states for revenue loss...</td>\n",
       "      <td id=\"T_d6272_row4_col4\" class=\"data row4 col4\" >False</td>\n",
       "    </tr>\n",
       "    <tr>\n",
       "      <th id=\"T_d6272_level0_row5\" class=\"row_heading level0 row5\" >5</th>\n",
       "      <td id=\"T_d6272_row5_col0\" class=\"data row5 col0\" >What are the components of GST?</td>\n",
       "      <td id=\"T_d6272_row5_col1\" class=\"data row5 col1\" >The components of GST are Central GST (CGST), State GST (SGST), and Integrated GST (IGST).</td>\n",
       "      <td id=\"T_d6272_row5_col2\" class=\"data row5 col2\" >['2 GST Smart Guide Chap. 1 \\n principal causes of the prosperity of Great Britain; every great country being \\nnecessarily the best and most extensive...</td>\n",
       "      <td id=\"T_d6272_row5_col3\" class=\"data row5 col3\" >CGST, SGST/UTGST, and IGST</td>\n",
       "      <td id=\"T_d6272_row5_col4\" class=\"data row5 col4\" >False</td>\n",
       "    </tr>\n",
       "    <tr>\n",
       "      <th id=\"T_d6272_level0_row6\" class=\"row_heading level0 row6\" >6</th>\n",
       "      <td id=\"T_d6272_row6_col0\" class=\"data row6 col0\" >What is a non-resident taxable person under GST?</td>\n",
       "      <td id=\"T_d6272_row6_col1\" class=\"data row6 col1\" >A non-resident taxable person is someone who occasionally supplies goods or services in India without having a fixed place of business and is liable to...</td>\n",
       "      <td id=\"T_d6272_row6_col2\" class=\"data row6 col2\" >['(g) any casual taxable \\nperson located in the \\ntaxable territory.', 'various taxable person as under:', 'registration indicated in his application of registration, an application in...</td>\n",
       "      <td id=\"T_d6272_row6_col3\" class=\"data row6 col3\" >A non-resident taxable person under GST is any person who occasionally undertakes transactions involving the supply of goods or services or both.</td>\n",
       "      <td id=\"T_d6272_row6_col4\" class=\"data row6 col4\" >False</td>\n",
       "    </tr>\n",
       "  </tbody>\n",
       "</table>\n"
      ],
      "text/plain": [
       "<pandas.io.formats.style.Styler at 0x1a4ce2f60>"
      ]
     },
     "metadata": {},
     "output_type": "display_data"
    },
    {
     "data": {
      "text/plain": [
       "0.0"
      ]
     },
     "execution_count": 31,
     "metadata": {},
     "output_type": "execute_result"
    }
   ],
   "source": [
    "rag = RAG()\n",
    "from dspy.evaluate.evaluate import Evaluate\n",
    "evaluate_on_qa = Evaluate(devset = testset, \n",
    "                          num_threads = 1, \n",
    "                          display_progress = True, \n",
    "                          display_table = 17)\n",
    "\n",
    "# Evaluating using the predefined metric by dspy\n",
    "metric = dspy.evaluate.answer_exact_match \n",
    "evaluate_on_qa(rag, metric = metric)"
   ]
  },
  {
   "cell_type": "markdown",
   "id": "a09b738c-96ee-432a-9293-b637f26106de",
   "metadata": {},
   "source": [
    "#### Optimize"
   ]
  },
  {
   "cell_type": "code",
   "execution_count": 32,
   "id": "058887f7-8044-4cd3-89ff-44b9ff7212c2",
   "metadata": {},
   "outputs": [
    {
     "name": "stderr",
     "output_type": "stream",
     "text": [
      "Batches: 100%|██████████| 1/1 [00:00<00:00, 29.04it/s]\n",
      "Batches: 100%|██████████| 1/1 [00:00<00:00, 19.57it/s]\n",
      "Batches: 100%|██████████| 1/1 [00:00<00:00, 19.49it/s]\n",
      "Batches: 100%|██████████| 1/1 [00:00<00:00, 18.89it/s]\n",
      "Batches: 100%|██████████| 1/1 [00:00<00:00, 21.40it/s]\n"
     ]
    },
    {
     "name": "stdout",
     "output_type": "stream",
     "text": [
      "Backing off 0.2 seconds after 1 tries calling function <function AzureOpenAI.request at 0x1a19d4cc0> with kwargs {'temperature': 0.0, 'max_tokens': 75, 'n': 1}\n",
      "Backing off 0.7 seconds after 2 tries calling function <function AzureOpenAI.request at 0x1a19d4cc0> with kwargs {'temperature': 0.0, 'max_tokens': 75, 'n': 1}\n",
      "Backing off 3.4 seconds after 3 tries calling function <function AzureOpenAI.request at 0x1a19d4cc0> with kwargs {'temperature': 0.0, 'max_tokens': 75, 'n': 1}\n",
      "Backing off 6.3 seconds after 4 tries calling function <function AzureOpenAI.request at 0x1a19d4cc0> with kwargs {'temperature': 0.0, 'max_tokens': 75, 'n': 1}\n",
      "Backing off 15.4 seconds after 5 tries calling function <function AzureOpenAI.request at 0x1a19d4cc0> with kwargs {'temperature': 0.0, 'max_tokens': 75, 'n': 1}\n"
     ]
    },
    {
     "name": "stderr",
     "output_type": "stream",
     "text": [
      "Batches: 100%|██████████| 1/1 [00:00<00:00, 22.95it/s]\n",
      "Batches: 100%|██████████| 1/1 [00:00<00:00, 18.79it/s]\n",
      "100%|██████████| 7/7 [01:27<00:00, 12.46s/it]"
     ]
    },
    {
     "name": "stdout",
     "output_type": "stream",
     "text": [
      "Bootstrapped 1 full traces after 7 examples in round 0.\n"
     ]
    },
    {
     "name": "stderr",
     "output_type": "stream",
     "text": [
      "\n"
     ]
    }
   ],
   "source": [
    "from dspy import teleprompt\n",
    "\n",
    "def validate_context_and_answer(example, pred, trace = None):\n",
    "    if pred.context is None:\n",
    "        return False\n",
    "    answer_EM = dspy.evaluate.answer_exact_match(example, pred)\n",
    "    answer_PM = dspy.evaluate.answer_passage_match(example, pred)\n",
    "    return answer_EM and answer_PM\n",
    "\n",
    "teleprompter = teleprompt.BootstrapFewShot(metric = validate_context_and_answer)\n",
    "\n",
    "trainset = json.load(open(\"TrainData.json\", \"r\"))['examples']\n",
    "trainset = [dspy.Example(question = e['question'], answer = e['answer']).with_inputs('question') for e in testdata]\n",
    "compiled_rag = teleprompter.compile(RAG(), trainset = trainset)"
   ]
  },
  {
   "cell_type": "code",
   "execution_count": 33,
   "id": "8401ecce-0a80-4123-bcaa-ee74d1f418b4",
   "metadata": {},
   "outputs": [
    {
     "name": "stderr",
     "output_type": "stream",
     "text": [
      "Batches: 100%|██████████| 1/1 [00:00<00:00, 10.36it/s]\n"
     ]
    },
    {
     "name": "stdout",
     "output_type": "stream",
     "text": [
      "Backing off 0.3 seconds after 1 tries calling function <function AzureOpenAI.request at 0x1a19d4cc0> with kwargs {'temperature': 0.0, 'max_tokens': 75, 'n': 1}\n",
      "Backing off 1.2 seconds after 2 tries calling function <function AzureOpenAI.request at 0x1a19d4cc0> with kwargs {'temperature': 0.0, 'max_tokens': 75, 'n': 1}\n",
      "Backing off 2.4 seconds after 3 tries calling function <function AzureOpenAI.request at 0x1a19d4cc0> with kwargs {'temperature': 0.0, 'max_tokens': 75, 'n': 1}\n",
      "Backing off 1.0 seconds after 4 tries calling function <function AzureOpenAI.request at 0x1a19d4cc0> with kwargs {'temperature': 0.0, 'max_tokens': 75, 'n': 1}\n",
      "Backing off 0.8 seconds after 5 tries calling function <function AzureOpenAI.request at 0x1a19d4cc0> with kwargs {'temperature': 0.0, 'max_tokens': 75, 'n': 1}\n",
      "Backing off 30.9 seconds after 6 tries calling function <function AzureOpenAI.request at 0x1a19d4cc0> with kwargs {'temperature': 0.0, 'max_tokens': 75, 'n': 1}\n"
     ]
    },
    {
     "name": "stderr",
     "output_type": "stream",
     "text": [
      "Batches: 100%|██████████| 1/1 [00:00<00:00, 21.92it/s]00:47<04:47, 47.91s/it]\n"
     ]
    },
    {
     "name": "stdout",
     "output_type": "stream",
     "text": [
      "Backing off 0.9 seconds after 1 tries calling function <function AzureOpenAI.request at 0x1a19d4cc0> with kwargs {'temperature': 0.0, 'max_tokens': 75, 'n': 1}\n",
      "Backing off 1.9 seconds after 2 tries calling function <function AzureOpenAI.request at 0x1a19d4cc0> with kwargs {'temperature': 0.0, 'max_tokens': 75, 'n': 1}\n",
      "Backing off 3.7 seconds after 3 tries calling function <function AzureOpenAI.request at 0x1a19d4cc0> with kwargs {'temperature': 0.0, 'max_tokens': 75, 'n': 1}\n"
     ]
    },
    {
     "name": "stderr",
     "output_type": "stream",
     "text": [
      "Batches: 100%|██████████| 1/1 [00:00<00:00, 21.06it/s]1:03<02:24, 28.88s/it] \n"
     ]
    },
    {
     "name": "stdout",
     "output_type": "stream",
     "text": [
      "Backing off 1.0 seconds after 1 tries calling function <function AzureOpenAI.request at 0x1a19d4cc0> with kwargs {'temperature': 0.4}\n",
      "Backing off 1.6 seconds after 2 tries calling function <function AzureOpenAI.request at 0x1a19d4cc0> with kwargs {'temperature': 0.4}\n",
      "Backing off 1.0 seconds after 3 tries calling function <function AzureOpenAI.request at 0x1a19d4cc0> with kwargs {'temperature': 0.4}\n",
      "Backing off 1.7 seconds after 4 tries calling function <function AzureOpenAI.request at 0x1a19d4cc0> with kwargs {'temperature': 0.4}\n",
      "Backing off 7.1 seconds after 5 tries calling function <function AzureOpenAI.request at 0x1a19d4cc0> with kwargs {'temperature': 0.4}\n",
      "Backing off 22.8 seconds after 6 tries calling function <function AzureOpenAI.request at 0x1a19d4cc0> with kwargs {'temperature': 0.4}\n",
      "Backing off 37.6 seconds after 7 tries calling function <function AzureOpenAI.request at 0x1a19d4cc0> with kwargs {'temperature': 0.4}\n"
     ]
    },
    {
     "name": "stderr",
     "output_type": "stream",
     "text": [
      "Batches: 100%|██████████| 1/1 [00:00<00:00, 17.78it/s]2:26<03:34, 53.54s/it]\n",
      "Batches: 100%|██████████| 1/1 [00:00<00:00, 21.20it/s]2:31<01:43, 34.49s/it]\n"
     ]
    },
    {
     "name": "stdout",
     "output_type": "stream",
     "text": [
      "Backing off 0.5 seconds after 1 tries calling function <function AzureOpenAI.request at 0x1a19d4cc0> with kwargs {'temperature': 0.4}\n",
      "Backing off 1.3 seconds after 2 tries calling function <function AzureOpenAI.request at 0x1a19d4cc0> with kwargs {'temperature': 0.4}\n",
      "Backing off 1.6 seconds after 3 tries calling function <function AzureOpenAI.request at 0x1a19d4cc0> with kwargs {'temperature': 0.4}\n",
      "Backing off 4.1 seconds after 4 tries calling function <function AzureOpenAI.request at 0x1a19d4cc0> with kwargs {'temperature': 0.4}\n",
      "Backing off 0.5 seconds after 5 tries calling function <function AzureOpenAI.request at 0x1a19d4cc0> with kwargs {'temperature': 0.4}\n",
      "Backing off 2.8 seconds after 6 tries calling function <function AzureOpenAI.request at 0x1a19d4cc0> with kwargs {'temperature': 0.4}\n",
      "Backing off 24.9 seconds after 7 tries calling function <function AzureOpenAI.request at 0x1a19d4cc0> with kwargs {'temperature': 0.4}\n",
      "Backing off 50.3 seconds after 8 tries calling function <function AzureOpenAI.request at 0x1a19d4cc0> with kwargs {'temperature': 0.4}\n"
     ]
    },
    {
     "name": "stderr",
     "output_type": "stream",
     "text": [
      "Batches: 100%|██████████| 1/1 [00:00<00:00, 20.25it/s]4:07<01:53, 56.60s/it]\n"
     ]
    },
    {
     "name": "stdout",
     "output_type": "stream",
     "text": [
      "Backing off 0.6 seconds after 1 tries calling function <function AzureOpenAI.request at 0x1a19d4cc0> with kwargs {'temperature': 0.0, 'max_tokens': 75, 'n': 1}\n",
      "Backing off 1.1 seconds after 2 tries calling function <function AzureOpenAI.request at 0x1a19d4cc0> with kwargs {'temperature': 0.0, 'max_tokens': 75, 'n': 1}\n",
      "Backing off 3.5 seconds after 3 tries calling function <function AzureOpenAI.request at 0x1a19d4cc0> with kwargs {'temperature': 0.0, 'max_tokens': 75, 'n': 1}\n",
      "Backing off 6.3 seconds after 4 tries calling function <function AzureOpenAI.request at 0x1a19d4cc0> with kwargs {'temperature': 0.0, 'max_tokens': 75, 'n': 1}\n",
      "Backing off 6.8 seconds after 5 tries calling function <function AzureOpenAI.request at 0x1a19d4cc0> with kwargs {'temperature': 0.0, 'max_tokens': 75, 'n': 1}\n",
      "Backing off 31.0 seconds after 6 tries calling function <function AzureOpenAI.request at 0x1a19d4cc0> with kwargs {'temperature': 0.0, 'max_tokens': 75, 'n': 1}\n"
     ]
    },
    {
     "name": "stderr",
     "output_type": "stream",
     "text": [
      "Batches: 100%|██████████| 1/1 [00:00<00:00, 18.67it/s]5:04<00:56, 56.91s/it]\n"
     ]
    },
    {
     "name": "stdout",
     "output_type": "stream",
     "text": [
      "Backing off 1.0 seconds after 1 tries calling function <function AzureOpenAI.request at 0x1a19d4cc0> with kwargs {'temperature': 0.4}\n",
      "Backing off 0.1 seconds after 2 tries calling function <function AzureOpenAI.request at 0x1a19d4cc0> with kwargs {'temperature': 0.4}\n"
     ]
    },
    {
     "name": "stderr",
     "output_type": "stream",
     "text": [
      "Average Metric: 3 / 7  (42.9): 100%|██████████| 7/7 [05:12<00:00, 44.65s/it]"
     ]
    },
    {
     "name": "stdout",
     "output_type": "stream",
     "text": [
      "Average Metric: 3 / 7  (42.9%)\n"
     ]
    },
    {
     "name": "stderr",
     "output_type": "stream",
     "text": [
      "\n",
      "/Users/aa813076/anaconda3/envs/env-webref/lib/python3.12/site-packages/dspy/evaluate/evaluate.py:266: FutureWarning: Setting an item of incompatible dtype is deprecated and will raise in a future error of pandas. Value '['✔️ [True]' 'False' 'False' 'False' '✔️ [True]' '✔️ [True]' 'False']' has dtype incompatible with bool, please explicitly cast to a compatible dtype first.\n",
      "  df.loc[:, metric_name] = df[metric_name].apply(\n"
     ]
    },
    {
     "data": {
      "text/html": [
       "<style type=\"text/css\">\n",
       "#T_8e6b5 th {\n",
       "  text-align: left;\n",
       "}\n",
       "#T_8e6b5 td {\n",
       "  text-align: left;\n",
       "}\n",
       "#T_8e6b5_row0_col0, #T_8e6b5_row0_col1, #T_8e6b5_row0_col2, #T_8e6b5_row0_col3, #T_8e6b5_row0_col4, #T_8e6b5_row1_col0, #T_8e6b5_row1_col1, #T_8e6b5_row1_col2, #T_8e6b5_row1_col3, #T_8e6b5_row1_col4, #T_8e6b5_row2_col0, #T_8e6b5_row2_col1, #T_8e6b5_row2_col2, #T_8e6b5_row2_col3, #T_8e6b5_row2_col4, #T_8e6b5_row3_col0, #T_8e6b5_row3_col1, #T_8e6b5_row3_col2, #T_8e6b5_row3_col3, #T_8e6b5_row3_col4, #T_8e6b5_row4_col0, #T_8e6b5_row4_col1, #T_8e6b5_row4_col2, #T_8e6b5_row4_col3, #T_8e6b5_row4_col4, #T_8e6b5_row5_col0, #T_8e6b5_row5_col1, #T_8e6b5_row5_col2, #T_8e6b5_row5_col3, #T_8e6b5_row5_col4, #T_8e6b5_row6_col0, #T_8e6b5_row6_col1, #T_8e6b5_row6_col2, #T_8e6b5_row6_col3, #T_8e6b5_row6_col4 {\n",
       "  text-align: left;\n",
       "  white-space: pre-wrap;\n",
       "  word-wrap: break-word;\n",
       "  max-width: 400px;\n",
       "}\n",
       "</style>\n",
       "<table id=\"T_8e6b5\">\n",
       "  <thead>\n",
       "    <tr>\n",
       "      <th class=\"blank level0\" >&nbsp;</th>\n",
       "      <th id=\"T_8e6b5_level0_col0\" class=\"col_heading level0 col0\" >question</th>\n",
       "      <th id=\"T_8e6b5_level0_col1\" class=\"col_heading level0 col1\" >example_answer</th>\n",
       "      <th id=\"T_8e6b5_level0_col2\" class=\"col_heading level0 col2\" >context</th>\n",
       "      <th id=\"T_8e6b5_level0_col3\" class=\"col_heading level0 col3\" >pred_answer</th>\n",
       "      <th id=\"T_8e6b5_level0_col4\" class=\"col_heading level0 col4\" >answer_exact_match</th>\n",
       "    </tr>\n",
       "  </thead>\n",
       "  <tbody>\n",
       "    <tr>\n",
       "      <th id=\"T_8e6b5_level0_row0\" class=\"row_heading level0 row0\" >0</th>\n",
       "      <td id=\"T_8e6b5_row0_col0\" class=\"data row0 col0\" >What is MSME?</td>\n",
       "      <td id=\"T_8e6b5_row0_col1\" class=\"data row0 col1\" >MSME stands for Micro, Small and Medium Enterprises</td>\n",
       "      <td id=\"T_8e6b5_row0_col2\" class=\"data row0 col2\" >['Appx. 11 Micro, Small and Medium Enterprises 1203 \\n (i) Evaluate readiness of MSMEs to export their products and services \\n (ii) Recognize areas where...</td>\n",
       "      <td id=\"T_8e6b5_row0_col3\" class=\"data row0 col3\" >MSME stands for Micro, Small, and Medium Enterprises.</td>\n",
       "      <td id=\"T_8e6b5_row0_col4\" class=\"data row0 col4\" >✔️ [True]</td>\n",
       "    </tr>\n",
       "    <tr>\n",
       "      <th id=\"T_8e6b5_level0_row1\" class=\"row_heading level0 row1\" >1</th>\n",
       "      <td id=\"T_8e6b5_row1_col0\" class=\"data row1 col0\" >What are the benefits to MSMEs under GST?</td>\n",
       "      <td id=\"T_8e6b5_row1_col1\" class=\"data row1 col1\" >The Micro, Small and Medium Enterprises have been accorded with lot of benefits in terms of compliance reliefs given in the form of threshold exemptions,...</td>\n",
       "      <td id=\"T_8e6b5_row1_col2\" class=\"data row1 col2\" >['be treated as deemed accepted by him. \\n(9) EWB can be generated online on https://www. ewaybillgst.gov.in. In \\naddition to web, EWB can be generated by...</td>\n",
       "      <td id=\"T_8e6b5_row1_col3\" class=\"data row1 col3\" >The benefits to MSMEs under GST include compliance reliefs such as threshold exemptions, the Composition levy scheme, and the provision for quarterly filing of GST...</td>\n",
       "      <td id=\"T_8e6b5_row1_col4\" class=\"data row1 col4\" >False</td>\n",
       "    </tr>\n",
       "    <tr>\n",
       "      <th id=\"T_8e6b5_level0_row2\" class=\"row_heading level0 row2\" >2</th>\n",
       "      <td id=\"T_8e6b5_row2_col0\" class=\"data row2 col0\" >What is the role of the GST Network (GSTN)?</td>\n",
       "      <td id=\"T_8e6b5_row2_col1\" class=\"data row2 col1\" >GSTN would provide three front end services to the taxpayers namely registration, payment and return. It would be developing back-end IT modules for 27 States...</td>\n",
       "      <td id=\"T_8e6b5_row2_col2\" class=\"data row2 col2\" >['Chap. 1 GST — Concept & Status 31 \\n 27. Goods & Services Tax Network \\n27.1 Goods and Services Tax Network (GSTN) has been set...</td>\n",
       "      <td id=\"T_8e6b5_row2_col3\" class=\"data row2 col3\" >The role of the GST Network (GSTN) is to provide front-end services to taxpayers, including registration, payment, and return filing, and to develop back-end IT...</td>\n",
       "      <td id=\"T_8e6b5_row2_col4\" class=\"data row2 col4\" >False</td>\n",
       "    </tr>\n",
       "    <tr>\n",
       "      <th id=\"T_8e6b5_level0_row3\" class=\"row_heading level0 row3\" >3</th>\n",
       "      <td id=\"T_8e6b5_row3_col0\" class=\"data row3 col0\" >What is the late fees per day for not filing Anual GST returns?</td>\n",
       "      <td id=\"T_8e6b5_row3_col1\" class=\"data row3 col1\" >The penalty for not filing GST returns is ₹100 per day for CGST and ₹100 per day for SGST</td>\n",
       "      <td id=\"T_8e6b5_row3_col2\" class=\"data row3 col2\" >['976 GST Smart Guide Chap. 54 \\n• Amount of pre-deposit payable for filing of appeal under the CGST \\nAct, 2017 before the Appellate Authority and...</td>\n",
       "      <td id=\"T_8e6b5_row3_col3\" class=\"data row3 col3\" >The late fees per day for not filing Annual GST returns is ₹200 (₹100 for CGST and ₹100 for SGST).</td>\n",
       "      <td id=\"T_8e6b5_row3_col4\" class=\"data row3 col4\" >False</td>\n",
       "    </tr>\n",
       "    <tr>\n",
       "      <th id=\"T_8e6b5_level0_row4\" class=\"row_heading level0 row4\" >4</th>\n",
       "      <td id=\"T_8e6b5_row4_col0\" class=\"data row4 col0\" >What is the GST compensation cess?</td>\n",
       "      <td id=\"T_8e6b5_row4_col1\" class=\"data row4 col1\" >GST compensation cess is levied on certain goods to compensate states for revenue loss due to the implementation of GST.</td>\n",
       "      <td id=\"T_8e6b5_row4_col2\" class=\"data row4 col2\" >['of the Council, for the purposes of providing compensation to the States for \\nloss of revenue arising on account of implementation of the goods and...</td>\n",
       "      <td id=\"T_8e6b5_row4_col3\" class=\"data row4 col3\" >GST compensation cess is levied on certain goods to compensate states for revenue loss due to the implementation of GST.</td>\n",
       "      <td id=\"T_8e6b5_row4_col4\" class=\"data row4 col4\" >✔️ [True]</td>\n",
       "    </tr>\n",
       "    <tr>\n",
       "      <th id=\"T_8e6b5_level0_row5\" class=\"row_heading level0 row5\" >5</th>\n",
       "      <td id=\"T_8e6b5_row5_col0\" class=\"data row5 col0\" >What are the components of GST?</td>\n",
       "      <td id=\"T_8e6b5_row5_col1\" class=\"data row5 col1\" >The components of GST are Central GST (CGST), State GST (SGST), and Integrated GST (IGST).</td>\n",
       "      <td id=\"T_8e6b5_row5_col2\" class=\"data row5 col2\" >['2 GST Smart Guide Chap. 1 \\n principal causes of the prosperity of Great Britain; every great country being \\nnecessarily the best and most extensive...</td>\n",
       "      <td id=\"T_8e6b5_row5_col3\" class=\"data row5 col3\" >The components of GST are Central GST (CGST), State GST (SGST), and Integrated GST (IGST).</td>\n",
       "      <td id=\"T_8e6b5_row5_col4\" class=\"data row5 col4\" >✔️ [True]</td>\n",
       "    </tr>\n",
       "    <tr>\n",
       "      <th id=\"T_8e6b5_level0_row6\" class=\"row_heading level0 row6\" >6</th>\n",
       "      <td id=\"T_8e6b5_row6_col0\" class=\"data row6 col0\" >What is a non-resident taxable person under GST?</td>\n",
       "      <td id=\"T_8e6b5_row6_col1\" class=\"data row6 col1\" >A non-resident taxable person is someone who occasionally supplies goods or services in India without having a fixed place of business and is liable to...</td>\n",
       "      <td id=\"T_8e6b5_row6_col2\" class=\"data row6 col2\" >['(g) any casual taxable \\nperson located in the \\ntaxable territory.', 'various taxable person as under:', 'registration indicated in his application of registration, an application in...</td>\n",
       "      <td id=\"T_8e6b5_row6_col3\" class=\"data row6 col3\" >A non</td>\n",
       "      <td id=\"T_8e6b5_row6_col4\" class=\"data row6 col4\" >False</td>\n",
       "    </tr>\n",
       "  </tbody>\n",
       "</table>\n"
      ],
      "text/plain": [
       "<pandas.io.formats.style.Styler at 0x1a8332510>"
      ]
     },
     "metadata": {},
     "output_type": "display_data"
    },
    {
     "data": {
      "text/plain": [
       "42.86"
      ]
     },
     "execution_count": 33,
     "metadata": {},
     "output_type": "execute_result"
    }
   ],
   "source": [
    "metric = dspy.evaluate.answer_exact_match\n",
    "evaluate_on_qa(compiled_rag, metric = metric)"
   ]
  },
  {
   "cell_type": "code",
   "execution_count": 34,
   "id": "730513a6-24fd-47c8-9d50-a704aa76609a",
   "metadata": {},
   "outputs": [
    {
     "name": "stderr",
     "output_type": "stream",
     "text": [
      "Batches: 100%|██████████| 1/1 [00:00<00:00, 27.19it/s]\n",
      "Batches: 100%|██████████| 1/1 [00:00<00:00, 23.90it/s]00:00<?, ?it/s]\n",
      "Batches: 100%|██████████| 1/1 [00:00<00:00, 22.23it/s]00:00<00:00, 19.09it/s]\n",
      "Batches: 100%|██████████| 1/1 [00:00<00:00, 21.64it/s]0:00<00:00, 19.09it/s] \n",
      "Batches: 100%|██████████| 1/1 [00:00<00:00, 27.71it/s]0:00<00:00, 17.80it/s]\n",
      "Batches: 100%|██████████| 1/1 [00:00<00:00, 26.88it/s]0:00<00:00, 17.80it/s]\n",
      "Batches: 100%|██████████| 1/1 [00:00<00:00, 21.78it/s]0:00<00:00, 17.80it/s]\n",
      "Average Metric: 2 / 7  (28.6): 100%|██████████| 7/7 [00:00<00:00, 18.55it/s]"
     ]
    },
    {
     "name": "stdout",
     "output_type": "stream",
     "text": [
      "Average Metric: 2 / 7  (28.6%)\n"
     ]
    },
    {
     "name": "stderr",
     "output_type": "stream",
     "text": [
      "\n",
      "/Users/aa813076/anaconda3/envs/env-webref/lib/python3.12/site-packages/dspy/evaluate/evaluate.py:266: FutureWarning: Setting an item of incompatible dtype is deprecated and will raise in a future error of pandas. Value '['✔️ [True]' '✔️ [True]' 'False' 'False' 'False' 'False' 'False']' has dtype incompatible with bool, please explicitly cast to a compatible dtype first.\n",
      "  df.loc[:, metric_name] = df[metric_name].apply(\n"
     ]
    },
    {
     "data": {
      "text/html": [
       "<style type=\"text/css\">\n",
       "#T_9fe03 th {\n",
       "  text-align: left;\n",
       "}\n",
       "#T_9fe03 td {\n",
       "  text-align: left;\n",
       "}\n",
       "#T_9fe03_row0_col0, #T_9fe03_row0_col1, #T_9fe03_row0_col2, #T_9fe03_row0_col3, #T_9fe03_row0_col4, #T_9fe03_row1_col0, #T_9fe03_row1_col1, #T_9fe03_row1_col2, #T_9fe03_row1_col3, #T_9fe03_row1_col4, #T_9fe03_row2_col0, #T_9fe03_row2_col1, #T_9fe03_row2_col2, #T_9fe03_row2_col3, #T_9fe03_row2_col4, #T_9fe03_row3_col0, #T_9fe03_row3_col1, #T_9fe03_row3_col2, #T_9fe03_row3_col3, #T_9fe03_row3_col4, #T_9fe03_row4_col0, #T_9fe03_row4_col1, #T_9fe03_row4_col2, #T_9fe03_row4_col3, #T_9fe03_row4_col4, #T_9fe03_row5_col0, #T_9fe03_row5_col1, #T_9fe03_row5_col2, #T_9fe03_row5_col3, #T_9fe03_row5_col4, #T_9fe03_row6_col0, #T_9fe03_row6_col1, #T_9fe03_row6_col2, #T_9fe03_row6_col3, #T_9fe03_row6_col4 {\n",
       "  text-align: left;\n",
       "  white-space: pre-wrap;\n",
       "  word-wrap: break-word;\n",
       "  max-width: 400px;\n",
       "}\n",
       "</style>\n",
       "<table id=\"T_9fe03\">\n",
       "  <thead>\n",
       "    <tr>\n",
       "      <th class=\"blank level0\" >&nbsp;</th>\n",
       "      <th id=\"T_9fe03_level0_col0\" class=\"col_heading level0 col0\" >question</th>\n",
       "      <th id=\"T_9fe03_level0_col1\" class=\"col_heading level0 col1\" >example_answer</th>\n",
       "      <th id=\"T_9fe03_level0_col2\" class=\"col_heading level0 col2\" >context</th>\n",
       "      <th id=\"T_9fe03_level0_col3\" class=\"col_heading level0 col3\" >pred_answer</th>\n",
       "      <th id=\"T_9fe03_level0_col4\" class=\"col_heading level0 col4\" >answer_passage_match</th>\n",
       "    </tr>\n",
       "  </thead>\n",
       "  <tbody>\n",
       "    <tr>\n",
       "      <th id=\"T_9fe03_level0_row0\" class=\"row_heading level0 row0\" >0</th>\n",
       "      <td id=\"T_9fe03_row0_col0\" class=\"data row0 col0\" >What is MSME?</td>\n",
       "      <td id=\"T_9fe03_row0_col1\" class=\"data row0 col1\" >MSME stands for Micro, Small and Medium Enterprises</td>\n",
       "      <td id=\"T_9fe03_row0_col2\" class=\"data row0 col2\" >['Appx. 11 Micro, Small and Medium Enterprises 1203 \\n (i) Evaluate readiness of MSMEs to export their products and services \\n (ii) Recognize areas where...</td>\n",
       "      <td id=\"T_9fe03_row0_col3\" class=\"data row0 col3\" >MSME stands for Micro, Small, and Medium Enterprises.</td>\n",
       "      <td id=\"T_9fe03_row0_col4\" class=\"data row0 col4\" >✔️ [True]</td>\n",
       "    </tr>\n",
       "    <tr>\n",
       "      <th id=\"T_9fe03_level0_row1\" class=\"row_heading level0 row1\" >1</th>\n",
       "      <td id=\"T_9fe03_row1_col0\" class=\"data row1 col0\" >What are the benefits to MSMEs under GST?</td>\n",
       "      <td id=\"T_9fe03_row1_col1\" class=\"data row1 col1\" >The Micro, Small and Medium Enterprises have been accorded with lot of benefits in terms of compliance reliefs given in the form of threshold exemptions,...</td>\n",
       "      <td id=\"T_9fe03_row1_col2\" class=\"data row1 col2\" >['be treated as deemed accepted by him. \\n(9) EWB can be generated online on https://www. ewaybillgst.gov.in. In \\naddition to web, EWB can be generated by...</td>\n",
       "      <td id=\"T_9fe03_row1_col3\" class=\"data row1 col3\" >The benefits to MSMEs under GST include compliance reliefs such as threshold exemptions, the Composition levy scheme, and the provision for quarterly filing of GST...</td>\n",
       "      <td id=\"T_9fe03_row1_col4\" class=\"data row1 col4\" >✔️ [True]</td>\n",
       "    </tr>\n",
       "    <tr>\n",
       "      <th id=\"T_9fe03_level0_row2\" class=\"row_heading level0 row2\" >2</th>\n",
       "      <td id=\"T_9fe03_row2_col0\" class=\"data row2 col0\" >What is the role of the GST Network (GSTN)?</td>\n",
       "      <td id=\"T_9fe03_row2_col1\" class=\"data row2 col1\" >GSTN would provide three front end services to the taxpayers namely registration, payment and return. It would be developing back-end IT modules for 27 States...</td>\n",
       "      <td id=\"T_9fe03_row2_col2\" class=\"data row2 col2\" >['Chap. 1 GST — Concept & Status 31 \\n 27. Goods & Services Tax Network \\n27.1 Goods and Services Tax Network (GSTN) has been set...</td>\n",
       "      <td id=\"T_9fe03_row2_col3\" class=\"data row2 col3\" >The role of the GST Network (GSTN) is to provide front-end services to taxpayers, including registration, payment, and return filing, and to develop back-end IT...</td>\n",
       "      <td id=\"T_9fe03_row2_col4\" class=\"data row2 col4\" >False</td>\n",
       "    </tr>\n",
       "    <tr>\n",
       "      <th id=\"T_9fe03_level0_row3\" class=\"row_heading level0 row3\" >3</th>\n",
       "      <td id=\"T_9fe03_row3_col0\" class=\"data row3 col0\" >What is the late fees per day for not filing Anual GST returns?</td>\n",
       "      <td id=\"T_9fe03_row3_col1\" class=\"data row3 col1\" >The penalty for not filing GST returns is ₹100 per day for CGST and ₹100 per day for SGST</td>\n",
       "      <td id=\"T_9fe03_row3_col2\" class=\"data row3 col2\" >['976 GST Smart Guide Chap. 54 \\n• Amount of pre-deposit payable for filing of appeal under the CGST \\nAct, 2017 before the Appellate Authority and...</td>\n",
       "      <td id=\"T_9fe03_row3_col3\" class=\"data row3 col3\" >The late fees per day for not filing Annual GST returns is ₹200 (₹100 for CGST and ₹100 for SGST).</td>\n",
       "      <td id=\"T_9fe03_row3_col4\" class=\"data row3 col4\" >False</td>\n",
       "    </tr>\n",
       "    <tr>\n",
       "      <th id=\"T_9fe03_level0_row4\" class=\"row_heading level0 row4\" >4</th>\n",
       "      <td id=\"T_9fe03_row4_col0\" class=\"data row4 col0\" >What is the GST compensation cess?</td>\n",
       "      <td id=\"T_9fe03_row4_col1\" class=\"data row4 col1\" >GST compensation cess is levied on certain goods to compensate states for revenue loss due to the implementation of GST.</td>\n",
       "      <td id=\"T_9fe03_row4_col2\" class=\"data row4 col2\" >['of the Council, for the purposes of providing compensation to the States for \\nloss of revenue arising on account of implementation of the goods and...</td>\n",
       "      <td id=\"T_9fe03_row4_col3\" class=\"data row4 col3\" >GST compensation cess is levied on certain goods to compensate states for revenue loss due to the implementation of GST.</td>\n",
       "      <td id=\"T_9fe03_row4_col4\" class=\"data row4 col4\" >False</td>\n",
       "    </tr>\n",
       "    <tr>\n",
       "      <th id=\"T_9fe03_level0_row5\" class=\"row_heading level0 row5\" >5</th>\n",
       "      <td id=\"T_9fe03_row5_col0\" class=\"data row5 col0\" >What are the components of GST?</td>\n",
       "      <td id=\"T_9fe03_row5_col1\" class=\"data row5 col1\" >The components of GST are Central GST (CGST), State GST (SGST), and Integrated GST (IGST).</td>\n",
       "      <td id=\"T_9fe03_row5_col2\" class=\"data row5 col2\" >['2 GST Smart Guide Chap. 1 \\n principal causes of the prosperity of Great Britain; every great country being \\nnecessarily the best and most extensive...</td>\n",
       "      <td id=\"T_9fe03_row5_col3\" class=\"data row5 col3\" >The components of GST are Central GST (CGST), State GST (SGST), and Integrated GST (IGST).</td>\n",
       "      <td id=\"T_9fe03_row5_col4\" class=\"data row5 col4\" >False</td>\n",
       "    </tr>\n",
       "    <tr>\n",
       "      <th id=\"T_9fe03_level0_row6\" class=\"row_heading level0 row6\" >6</th>\n",
       "      <td id=\"T_9fe03_row6_col0\" class=\"data row6 col0\" >What is a non-resident taxable person under GST?</td>\n",
       "      <td id=\"T_9fe03_row6_col1\" class=\"data row6 col1\" >A non-resident taxable person is someone who occasionally supplies goods or services in India without having a fixed place of business and is liable to...</td>\n",
       "      <td id=\"T_9fe03_row6_col2\" class=\"data row6 col2\" >['(g) any casual taxable \\nperson located in the \\ntaxable territory.', 'various taxable person as under:', 'registration indicated in his application of registration, an application in...</td>\n",
       "      <td id=\"T_9fe03_row6_col3\" class=\"data row6 col3\" >A non</td>\n",
       "      <td id=\"T_9fe03_row6_col4\" class=\"data row6 col4\" >False</td>\n",
       "    </tr>\n",
       "  </tbody>\n",
       "</table>\n"
      ],
      "text/plain": [
       "<pandas.io.formats.style.Styler at 0x1ac3ae240>"
      ]
     },
     "metadata": {},
     "output_type": "display_data"
    },
    {
     "data": {
      "text/plain": [
       "28.57"
      ]
     },
     "execution_count": 34,
     "metadata": {},
     "output_type": "execute_result"
    }
   ],
   "source": [
    "# Checking the model performance on a different metrics\n",
    "metric = dspy.evaluate.answer_passage_match\n",
    "evaluate_on_qa(compiled_rag, metric = metric)"
   ]
  },
  {
   "cell_type": "markdown",
   "id": "9544ea76-97c5-4edd-a17d-f369bafc872e",
   "metadata": {},
   "source": [
    "#### Defining custom metric"
   ]
  },
  {
   "cell_type": "code",
   "execution_count": 35,
   "id": "e7513a9a-1c4c-413a-a5b4-d218cbb59788",
   "metadata": {},
   "outputs": [],
   "source": [
    "# Define the signature for automatic assessments.\n",
    "class Assess(dspy.Signature):\n",
    "    \"\"\"Assess the quality of the answer\"\"\"\n",
    "\n",
    "    assessed_text = dspy.InputField()\n",
    "    assessment_question = dspy.InputField()\n",
    "    assessment_answer = dspy.OutputField(desc = \"Yes or No\")"
   ]
  },
  {
   "cell_type": "code",
   "execution_count": 36,
   "id": "bdf17d9d-1e71-41ac-9d36-c238dde568eb",
   "metadata": {},
   "outputs": [],
   "source": [
    "def metric(gold, pred, trace = None):\n",
    "    question, answer, ans = gold.question, gold.answer, pred.answer\n",
    "\n",
    "    engaging = \"Does the assessed text make for a self-contained, engaging answer?\"\n",
    "    correct = f\"The text should answer `{question}` with `{answer}`. Does the assessed text contain this answer?\"\n",
    "    \n",
    "    with dspy.context(lm=lm_model):\n",
    "        correct =  dspy.Predict(Assess)(assessed_text = ans, assessment_question = correct)\n",
    "        engaging = dspy.Predict(Assess)(assessed_text = ans, assessment_question = engaging)\n",
    "\n",
    "    correct, engaging = [m.assessment_answer.lower() == 'yes' for m in [correct, engaging]]\n",
    "    score = (correct + engaging) if correct else 0\n",
    "\n",
    "    if trace is not None: return score >= 2\n",
    "    return score / 2.0"
   ]
  },
  {
   "cell_type": "code",
   "execution_count": 37,
   "id": "6b4b0dd6-46f3-4577-a5c2-770a5e0fbc0e",
   "metadata": {},
   "outputs": [
    {
     "name": "stderr",
     "output_type": "stream",
     "text": [
      "Batches: 100%|██████████| 1/1 [00:00<00:00, 20.13it/s]\n"
     ]
    },
    {
     "name": "stdout",
     "output_type": "stream",
     "text": [
      "Example({'question': 'What is MSME?', 'answer': 'MSME stands for Micro, Small and Medium Enterprises'}) (input_keys={'question'}) Micro, Small and Medium Enterprises\n"
     ]
    },
    {
     "name": "stderr",
     "output_type": "stream",
     "text": [
      "Batches: 100%|██████████| 1/1 [00:00<00:00, 21.49it/s]\n"
     ]
    },
    {
     "name": "stdout",
     "output_type": "stream",
     "text": [
      "Example({'question': 'What are the benefits to MSMEs under GST?', 'answer': 'The Micro, Small and Medium Enterprises have been accorded with lot of benefits in terms of compliance reliefs given in the form of threshold exemptions, Composition levy scheme, quarterly filing of the GST returns to mention a few. While doing so, it has also been kept in mind that they do not become uncompetitive even as they are given all the benefits of GST.'}) (input_keys={'question'}) The benefits to MSMEs under GST include compliance reliefs like threshold exemptions, the Composition levy scheme, and quarterly filing of GST returns.\n"
     ]
    },
    {
     "name": "stderr",
     "output_type": "stream",
     "text": [
      "Batches: 100%|██████████| 1/1 [00:00<00:00, 12.34it/s]\n"
     ]
    },
    {
     "name": "stdout",
     "output_type": "stream",
     "text": [
      "Example({'question': 'What is the role of the GST Network (GSTN)?', 'answer': 'GSTN would provide three front end services to the taxpayers namely registration, payment and return. It would be developing back-end IT modules for 27 States who have opted for the same.'}) (input_keys={'question'}) The role of the GST Network (GSTN) is to provide front-end services to taxpayers\n"
     ]
    },
    {
     "name": "stderr",
     "output_type": "stream",
     "text": [
      "Batches: 100%|██████████| 1/1 [00:00<00:00, 14.10it/s]\n"
     ]
    },
    {
     "name": "stdout",
     "output_type": "stream",
     "text": [
      "Example({'question': 'What is the late fees per day for not filing Anual GST returns?', 'answer': 'The penalty for not filing GST returns is ₹100 per day for CGST and ₹100 per day for SGST'}) (input_keys={'question'}) `100 per day\n"
     ]
    },
    {
     "name": "stderr",
     "output_type": "stream",
     "text": [
      "Batches: 100%|██████████| 1/1 [00:00<00:00, 14.08it/s]\n"
     ]
    },
    {
     "name": "stdout",
     "output_type": "stream",
     "text": [
      "Example({'question': 'What is the GST compensation cess?', 'answer': 'GST compensation cess is levied on certain goods to compensate states for revenue loss due to the implementation of GST.'}) (input_keys={'question'}) The GST compensation cess is an additional levy on certain notified goods, over and above the applicable GST, aimed at compensating states for revenue loss due to the implementation of GST, effective from July 1, 2017, for a period of five years or more as recommended by the GST Council.\n"
     ]
    },
    {
     "name": "stderr",
     "output_type": "stream",
     "text": [
      "Batches: 100%|██████████| 1/1 [00:00<00:00, 20.13it/s]\n"
     ]
    },
    {
     "name": "stdout",
     "output_type": "stream",
     "text": [
      "Example({'question': 'What are the components of GST?', 'answer': 'The components of GST are Central GST (CGST), State GST (SGST), and Integrated GST (IGST).'}) (input_keys={'question'}) CGST, SGST/UTGST, and IGST\n",
      "Backing off 0.5 seconds after 1 tries calling function <function AzureOpenAI.request at 0x1a19d4cc0> with kwargs {}\n",
      "Backing off 1.8 seconds after 2 tries calling function <function AzureOpenAI.request at 0x1a19d4cc0> with kwargs {}\n",
      "Backing off 3.9 seconds after 3 tries calling function <function AzureOpenAI.request at 0x1a19d4cc0> with kwargs {}\n"
     ]
    },
    {
     "name": "stderr",
     "output_type": "stream",
     "text": [
      "Batches: 100%|██████████| 1/1 [00:00<00:00, 15.61it/s]\n"
     ]
    },
    {
     "name": "stdout",
     "output_type": "stream",
     "text": [
      "Example({'question': 'What is a non-resident taxable person under GST?', 'answer': 'A non-resident taxable person is someone who occasionally supplies goods or services in India without having a fixed place of business and is liable to pay GST.'}) (input_keys={'question'}) A non-resident taxable person under GST is any person who occasionally undertakes transactions involving the supply of goods or services or both.\n",
      "Accuracy: 42.857142857142854\n"
     ]
    }
   ],
   "source": [
    "# Getting the accuracy with the customized model\n",
    "scores = []\n",
    "for x in testset:\n",
    "    pred = rag(**x.inputs())\n",
    "    print(x, pred.answer)\n",
    "    score = metric(x, pred)\n",
    "    scores.append(score)\n",
    "    \n",
    "print(f\"Accuracy: {np.mean(scores)*100}\")"
   ]
  },
  {
   "cell_type": "code",
   "execution_count": 38,
   "id": "e8c4423e-f13c-486f-b185-138fb7254209",
   "metadata": {},
   "outputs": [
    {
     "name": "stderr",
     "output_type": "stream",
     "text": [
      "Batches: 100%|██████████| 1/1 [00:00<00:00, 23.55it/s]"
     ]
    },
    {
     "name": "stdout",
     "output_type": "stream",
     "text": [
      "Example({'question': 'What is MSME?', 'answer': 'MSME stands for Micro, Small and Medium Enterprises'}) (input_keys={'question'}) MSME stands for Micro, Small, and Medium Enterprises.\n"
     ]
    },
    {
     "name": "stderr",
     "output_type": "stream",
     "text": [
      "\n",
      "Batches: 100%|██████████| 1/1 [00:00<00:00, 16.97it/s]\n"
     ]
    },
    {
     "name": "stdout",
     "output_type": "stream",
     "text": [
      "Example({'question': 'What are the benefits to MSMEs under GST?', 'answer': 'The Micro, Small and Medium Enterprises have been accorded with lot of benefits in terms of compliance reliefs given in the form of threshold exemptions, Composition levy scheme, quarterly filing of the GST returns to mention a few. While doing so, it has also been kept in mind that they do not become uncompetitive even as they are given all the benefits of GST.'}) (input_keys={'question'}) The benefits to MSMEs under GST include compliance reliefs such as threshold exemptions, the Composition levy scheme, and the provision for quarterly filing of GST returns.\n"
     ]
    },
    {
     "name": "stderr",
     "output_type": "stream",
     "text": [
      "Batches: 100%|██████████| 1/1 [00:00<00:00, 19.12it/s]\n"
     ]
    },
    {
     "name": "stdout",
     "output_type": "stream",
     "text": [
      "Example({'question': 'What is the role of the GST Network (GSTN)?', 'answer': 'GSTN would provide three front end services to the taxpayers namely registration, payment and return. It would be developing back-end IT modules for 27 States who have opted for the same.'}) (input_keys={'question'}) The role of the GST Network (GSTN) is to provide front-end services to taxpayers, including registration, payment, and return filing, and to develop back-end IT modules for states that opt for its services, ensuring data security and restricted access.\n"
     ]
    },
    {
     "name": "stderr",
     "output_type": "stream",
     "text": [
      "Batches: 100%|██████████| 1/1 [00:00<00:00, 16.59it/s]\n"
     ]
    },
    {
     "name": "stdout",
     "output_type": "stream",
     "text": [
      "Example({'question': 'What is the late fees per day for not filing Anual GST returns?', 'answer': 'The penalty for not filing GST returns is ₹100 per day for CGST and ₹100 per day for SGST'}) (input_keys={'question'}) The late fees per day for not filing Annual GST returns is ₹200 (₹100 for CGST and ₹100 for SGST).\n",
      "Backing off 0.1 seconds after 1 tries calling function <function AzureOpenAI.request at 0x1a19d4cc0> with kwargs {}\n",
      "Backing off 0.6 seconds after 2 tries calling function <function AzureOpenAI.request at 0x1a19d4cc0> with kwargs {}\n",
      "Backing off 3.4 seconds after 3 tries calling function <function AzureOpenAI.request at 0x1a19d4cc0> with kwargs {}\n"
     ]
    },
    {
     "name": "stderr",
     "output_type": "stream",
     "text": [
      "Batches: 100%|██████████| 1/1 [00:00<00:00, 22.17it/s]\n"
     ]
    },
    {
     "name": "stdout",
     "output_type": "stream",
     "text": [
      "Example({'question': 'What is the GST compensation cess?', 'answer': 'GST compensation cess is levied on certain goods to compensate states for revenue loss due to the implementation of GST.'}) (input_keys={'question'}) GST compensation cess is levied on certain goods to compensate states for revenue loss due to the implementation of GST.\n"
     ]
    },
    {
     "name": "stderr",
     "output_type": "stream",
     "text": [
      "Batches: 100%|██████████| 1/1 [00:00<00:00, 21.98it/s]\n"
     ]
    },
    {
     "name": "stdout",
     "output_type": "stream",
     "text": [
      "Example({'question': 'What are the components of GST?', 'answer': 'The components of GST are Central GST (CGST), State GST (SGST), and Integrated GST (IGST).'}) (input_keys={'question'}) The components of GST are Central GST (CGST), State GST (SGST), and Integrated GST (IGST).\n"
     ]
    },
    {
     "name": "stderr",
     "output_type": "stream",
     "text": [
      "Batches: 100%|██████████| 1/1 [00:00<00:00, 21.98it/s]\n"
     ]
    },
    {
     "name": "stdout",
     "output_type": "stream",
     "text": [
      "Example({'question': 'What is a non-resident taxable person under GST?', 'answer': 'A non-resident taxable person is someone who occasionally supplies goods or services in India without having a fixed place of business and is liable to pay GST.'}) (input_keys={'question'}) A non\n",
      "Accuracy: 85.71428571428571\n"
     ]
    }
   ],
   "source": [
    "# Getting the accuracy of new optimized model on custom metric\n",
    "scores = []\n",
    "for x in testset:\n",
    "    pred = compiled_rag(**x.inputs())\n",
    "    print(x, pred.answer)\n",
    "    score = metric(x, pred)\n",
    "    scores.append(score)\n",
    "    \n",
    "print(f\"Accuracy: {np.mean(scores)*100}\")"
   ]
  },
  {
   "cell_type": "markdown",
   "id": "0a91150d",
   "metadata": {},
   "source": [
    "#### Running the RAG "
   ]
  },
  {
   "cell_type": "code",
   "execution_count": 43,
   "id": "1ed2b4cf",
   "metadata": {},
   "outputs": [
    {
     "name": "stderr",
     "output_type": "stream",
     "text": [
      "Batches: 100%|██████████| 1/1 [00:00<00:00, 27.15it/s]\n"
     ]
    },
    {
     "data": {
      "text/plain": [
       "'GST stands for Goods and Services Tax, a comprehensive, multi-stage, destination-based tax levied on every value addition.'"
      ]
     },
     "execution_count": 43,
     "metadata": {},
     "output_type": "execute_result"
    }
   ],
   "source": [
    "query = \"What is GST?\"\n",
    "compiled_rag(query).answer"
   ]
  },
  {
   "cell_type": "code",
   "execution_count": 44,
   "id": "ae9bbd35",
   "metadata": {},
   "outputs": [
    {
     "name": "stderr",
     "output_type": "stream",
     "text": [
      "Batches: 100%|██████████| 1/1 [00:00<00:00, 20.61it/s]\n"
     ]
    },
    {
     "data": {
      "text/plain": [
       "'Persons making any inter-State taxable supply, casual taxable persons'"
      ]
     },
     "execution_count": 44,
     "metadata": {},
     "output_type": "execute_result"
    }
   ],
   "source": [
    "query = \"Who needs to file GST?\"\n",
    "compiled_rag(query).answer"
   ]
  },
  {
   "cell_type": "code",
   "execution_count": 45,
   "id": "5e673fe2",
   "metadata": {},
   "outputs": [
    {
     "name": "stderr",
     "output_type": "stream",
     "text": [
      "Batches: 100%|██████████| 1/1 [00:00<00:00,  9.78it/s]\n"
     ]
    },
    {
     "data": {
      "text/plain": [
       "'The penalty for not filing GST returns is ₹100 per day for CGST and ₹100 per day for SGST.'"
      ]
     },
     "execution_count": 45,
     "metadata": {},
     "output_type": "execute_result"
    }
   ],
   "source": [
    "query = \"What is the penalty if someone misses to file GST?\"\n",
    "compiled_rag(query).answer"
   ]
  }
 ],
 "metadata": {
  "kernelspec": {
   "display_name": "env-webref",
   "language": "python",
   "name": "python3"
  },
  "language_info": {
   "codemirror_mode": {
    "name": "ipython",
    "version": 3
   },
   "file_extension": ".py",
   "mimetype": "text/x-python",
   "name": "python",
   "nbconvert_exporter": "python",
   "pygments_lexer": "ipython3",
   "version": "3.12.3"
  }
 },
 "nbformat": 4,
 "nbformat_minor": 5
}
